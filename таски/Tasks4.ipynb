{
 "cells": [
  {
   "cell_type": "markdown",
   "metadata": {},
   "source": [
    "Задание 1\n",
    "\n",
    "Дана строка s, найдите длину самой длинной подстроки без повторяющихся символов.\n",
    "\n",
    "Пример 1:\n",
    "\n",
    "Ввод: s = \"abcabcbb\"\n",
    "Вывод: 3\n",
    "Объяснение: Ответ \"abc\", длина 3.\n",
    "`\n",
    "Пример 2:\n",
    "\n",
    "Вход: s = \"bbbb\"\n",
    "Выход: 1\n",
    "Объяснение: Ответ \"b\" с длиной 1.\n",
    "Пример 3:\n",
    "\n",
    "Ввод: s = \"pwwkew\"\n",
    "Вывод: 3\n",
    "Объяснение: Ответ \"wke\" с длиной 3."
   ]
  },
  {
   "cell_type": "code",
   "execution_count": 2,
   "metadata": {},
   "outputs": [
    {
     "name": "stdout",
     "output_type": "stream",
     "text": [
      "('abc', 3)\n",
      "('wke', 3)\n",
      "('b', 1)\n"
     ]
    }
   ],
   "source": [
    "def longest_without_duplication(s):\n",
    "    max_s = ''\n",
    "    cnt = 0\n",
    "    max_cnt = 0\n",
    "    begin,end=0,len(s)-1\n",
    "    temp_s = ''\n",
    "    while begin<=end:\n",
    "        if s[begin] not in temp_s:\n",
    "            temp_s +=s[begin]\n",
    "            cnt +=1\n",
    "        else:\n",
    "            temp_s = temp_s[temp_s.index(s[begin]) + 1:] + s[begin]\n",
    "            cnt = len(temp_s)\n",
    "\n",
    "        if cnt>max_cnt:\n",
    "            max_cnt = cnt\n",
    "            max_s = temp_s\n",
    "        begin += 1\n",
    "    return max_s, max_cnt\n",
    "\n",
    "print(longest_without_duplication('abcabcbb'))\n",
    "print(longest_without_duplication('pwwkew'))\n",
    "print(longest_without_duplication('bbbb'))"
   ]
  },
  {
   "cell_type": "markdown",
   "metadata": {},
   "source": [
    "Задание 2\n",
    "\n",
    "Учитывая список различных целых чисел candidates и целевое целое число target, вернуть список всех уникальных комбинаций из списка candidates, где сумма выбранных чисел равна target. Один и тот же элемент списка candidates можно выбирать неограниченное количество раз. Две комбинации уникальны, если частота хотя бы одного из выбранных чисел различна. Гарантируется, что количество уникальных комбинаций, которые в сумме составляют target меньше чем 150. Также гарантируется, что элементы списка candidates не повторяются.\n",
    "\n",
    "Пример 1:\n",
    "\n",
    "Ввод: кандидаты = [2,3,6,7], цель = 7\n",
    "Вывод: [[2,2,3],[7]]\n",
    "Объяснение: \n",
    "2 и 3 — кандидаты, а 2 + 2 + 3 = 7. Примечание. что 2 можно использовать несколько раз. \n",
    "7 — кандидат, и 7 = 7. \n",
    "Это единственные две комбинации.\n",
    "Пример 2:\n",
    "\n",
    "Ввод: кандидаты = [2,3,5], цель = 8\n",
    "Вывод: [[2,2,2,2],[2,3,3],[3,5]]\n",
    "Пример 3:\n",
    "\n",
    "Ввод: кандидаты = [2], цель = 1\n",
    "Вывод: []"
   ]
  },
  {
   "cell_type": "code",
   "execution_count": 1,
   "metadata": {},
   "outputs": [
    {
     "name": "stdout",
     "output_type": "stream",
     "text": [
      "[[2, 2, 3], [7]]\n",
      "[[2, 2, 2, 2], [2, 3, 3], [3, 5]]\n",
      "[]\n"
     ]
    }
   ],
   "source": [
    "def to_target(array, index, target, solution, results):\n",
    "    if target == 0:\n",
    "        if solution not in results:\n",
    "            return results.append(solution)\n",
    "    for i in range(index, len(array)):\n",
    "        if array[i] <= target:\n",
    "            to_target(array,i,target-array[i],solution+[array[i]], results)\n",
    "        else:\n",
    "            return\n",
    "results1 = []\n",
    "results2 = []\n",
    "results3 = []\n",
    "to_target([2,3,6,7], 0, 7, [], results1)\n",
    "print(results1)\n",
    "to_target([2,3,5], 0, 8, [], results2)\n",
    "print(results2)\n",
    "to_target([2], 0, 1, [], results3)\n",
    "print(results3)"
   ]
  },
  {
   "cell_type": "markdown",
   "metadata": {},
   "source": [
    "Задание 3\n",
    "\n",
    "На вход подается двумерный неотсортированный список состоящий из целых чисел. Вам необходимо отсортировать список в порядке возрастания и отобразить его элементы по спирали.\n",
    "\n",
    "Пример 1:\n",
    "Ввод: матрица = [[1,2,3],[4,5,6],[7,8,9]]\n",
    "Вывод: [1,2,3,6,9,8,7,4,5]\n",
    "\n",
    "Пример 2:\n",
    "Ввод: матрица = [[1,2,3,4],[5,6,7,8],[9,10,11,12]]\n",
    "Вывод: [1,2,3,4,8,12, 11,10,9,5,6,7]"
   ]
  },
  {
   "cell_type": "code",
   "execution_count": 3,
   "metadata": {},
   "outputs": [
    {
     "name": "stdout",
     "output_type": "stream",
     "text": [
      "[0, 1, 2, 3]\n",
      "[4, 5, 6, 7]\n",
      "[8, 9, 10, 11]\n",
      "[0, 1, 2, 3, 7, 11, 10, 9, 8, 4, 5, 6]\n"
     ]
    }
   ],
   "source": [
    "def mtx_sort(inp_matrix):\n",
    "    result = [[]]\n",
    "    matrix = inp_matrix.copy()\n",
    "\n",
    "    width = len(inp_matrix[0])\n",
    "    current_height = 0\n",
    "\n",
    "    while len(matrix)>0:\n",
    "        if len(result[current_height])==width:\n",
    "            current_height+=1\n",
    "            result.append([])\n",
    "            \n",
    "        min_i,min_j = 0,0\n",
    "        for i in range(len(matrix)):\n",
    "            for j in range(len(matrix[i])):\n",
    "                if matrix[min_i][min_j]>matrix[i][j]:\n",
    "                    min_i,min_j = i,j\n",
    "\n",
    "        result[current_height].append(matrix[min_i].pop(min_j))\n",
    "        if len(matrix[min_i])==0:\n",
    "            matrix.pop(min_i)\n",
    "\n",
    "\n",
    "\n",
    "    return result\n",
    "\n",
    "def get_left(matrix, out):\n",
    "    if len(matrix)>0:\n",
    "        result = out.copy()\n",
    "\n",
    "        for i in range(len(matrix)-1,-1,-1):\n",
    "            if (len(matrix[i])>0):\n",
    "                result.append(matrix[i].pop(0))\n",
    "        \n",
    "        return get_top(matrix, result)\n",
    "    return out\n",
    "\n",
    "def show_mtx(mtx):\n",
    "    for row in range(len(mtx)):\n",
    "        print(mtx[row])\n",
    "\n",
    "def get_down(matrix, out):\n",
    "    if len(matrix)>0:\n",
    "        result = out.copy()\n",
    "\n",
    "        current_row = matrix.pop()\n",
    "        while len(current_row) > 0:\n",
    "            result.append(current_row.pop())\n",
    "        \n",
    "        return get_left(matrix, result)\n",
    "    return out\n",
    "\n",
    "def get_right(matrix, out):\n",
    "    if len(matrix)>0:\n",
    "        result = out.copy()\n",
    "\n",
    "        for i in range(0, len(matrix)):\n",
    "            if (len(matrix[i])>0):\n",
    "                result.append(matrix[i].pop())\n",
    "        \n",
    "        return get_down(matrix, result)\n",
    "    return out\n",
    "\n",
    "def get_top(matrix, out):\n",
    "    if len(matrix)>0:\n",
    "        result = out.copy()\n",
    "\n",
    "        current_row = matrix.pop(0)\n",
    "        while len(current_row) > 0:\n",
    "            result.append(current_row.pop(0))\n",
    "        \n",
    "        return get_right(matrix, result)\n",
    "    return out\n",
    "\n",
    "a = [[1,3,2,10],\n",
    "    [7,4,9,0],\n",
    "    [6,5,8,11],\n",
    "    ]\n",
    "a = mtx_sort(a)\n",
    "show_mtx(a)\n",
    "print(get_top(a.copy(), []))\n",
    "b = []"
   ]
  }
 ],
 "metadata": {
  "interpreter": {
   "hash": "26de051ba29f2982a8de78e945f0abaf191376122a1563185a90213a26c5da77"
  },
  "kernelspec": {
   "display_name": "Python 3.10.4 64-bit",
   "language": "python",
   "name": "python3"
  },
  "language_info": {
   "codemirror_mode": {
    "name": "ipython",
    "version": 3
   },
   "file_extension": ".py",
   "mimetype": "text/x-python",
   "name": "python",
   "nbconvert_exporter": "python",
   "pygments_lexer": "ipython3",
   "version": "3.10.4"
  },
  "orig_nbformat": 4
 },
 "nbformat": 4,
 "nbformat_minor": 2
}
