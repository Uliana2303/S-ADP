{
 "cells": [
  {
   "cell_type": "code",
   "execution_count": 4,
   "metadata": {},
   "outputs": [
    {
     "name": "stdout",
     "output_type": "stream",
     "text": [
      "a = 93, b = 95, c = 99\n",
      "287\n"
     ]
    }
   ],
   "source": [
    "import numpy as np\n",
    "\n",
    "def triangleWithMaxPerimeter(ribs):\n",
    "    perimeter = 0\n",
    "\n",
    "    for i in range(0,len(ribs)):\n",
    "        for j in range(i+1,len(ribs)):\n",
    "            for k in range(j+1,len(ribs)):\n",
    "                if (ribs[i]+ribs[j]>ribs[k] and ribs[i]+ribs[k]>ribs[j] and ribs[k]+ribs[j]>ribs[i]):\n",
    "                    if (perimeter<ribs[i]+ribs[j]+ribs[k]):\n",
    "                        perimeter = ribs[i]+ribs[j]+ribs[k]\n",
    "                        a = ribs[i]\n",
    "                        b = ribs[j]\n",
    "                        c = ribs[k]\n",
    "    if(perimeter == 0):\n",
    "        print(\"bad ribs\")\n",
    "    else:\n",
    "        print(f'a = {a}, b = {b}, c = {c}')\n",
    "    return perimeter\n",
    "array = np.random.randint(1,100,30)\n",
    "array = np.sort(array)\n",
    "print(triangleWithMaxPerimeter(array))"
   ]
  },
  {
   "cell_type": "markdown",
   "metadata": {},
   "source": [
    "Задание №2\n",
    "Дан массив неотрицательных целых чисел nums. Расположите их в таком порядке, чтобы вместе они образовали максимально возможное число. Замечание: Результат может быть очень большим числом, поэтому представьте его как string, а не integer."
   ]
  },
  {
   "cell_type": "code",
   "execution_count": 1,
   "metadata": {},
   "outputs": [
    {
     "name": "stdout",
     "output_type": "stream",
     "text": [
      "95534330\n",
      "0\n",
      "343234323\n"
     ]
    }
   ],
   "source": [
    "def compareNumbers(a, b):\n",
    "    first_number = str(a)\n",
    "    second_number = str(b)\n",
    "\n",
    "    minLength = len(first_number)\n",
    "    if len(second_number) < minLength: \n",
    "        minLength = len(second_number)\n",
    "\n",
    "    for digit_index in range(minLength):\n",
    "        if (int(first_number[digit_index]) < int(second_number[digit_index])):\n",
    "            return True\n",
    "        elif int(first_number[digit_index]) == int(second_number[digit_index]):\n",
    "            if digit_index == minLength-1:\n",
    "                if len(first_number) < len(second_number):\n",
    "                    return compareNumbers(int(first_number), int(second_number[minLength : len(second_number)]))\n",
    "                elif len(first_number) > len(second_number):\n",
    "                    return compareNumbers(int(first_number[minLength : len(first_number)]), int(second_number))\n",
    "        else:\n",
    "            return False\n",
    "\n",
    "def insertionSort(nums):\n",
    "        for i in range(1, len(nums)):\n",
    "            k = i-1\n",
    "            while k >= 0 and compareNumbers(nums[k], nums[k+1]):\n",
    "                nums[k], nums[k+1] = nums[k+1], nums[k]\n",
    "                k-=1\n",
    "\n",
    "def trimZeros(number):\n",
    "    for digit_index in range (len(number)):\n",
    "        if digit_index != len(number)-1:\n",
    "            if number[digit_index] != '0':\n",
    "                return number[digit_index:len(number)]\n",
    "        else:\n",
    "            return number[digit_index:len(number)]\n",
    "    return number\n",
    "\n",
    "\n",
    "def biggestNumber(nums):\n",
    "    result = \"\"\n",
    "    \n",
    "    insertionSort(nums)\n",
    "\n",
    "    for i in range(len(nums)):\n",
    "        result += str(nums[i])\n",
    "\n",
    "    result = trimZeros(result)\n",
    "\n",
    "    return result\n",
    "    \n",
    "print(biggestNumber([5, 3, 30, 34, 5, 9]))\n",
    "print(biggestNumber([0,0]))\n",
    "print(biggestNumber([34323, 3432]))"
   ]
  },
  {
   "cell_type": "markdown",
   "metadata": {},
   "source": [
    "Задание №3\n",
    "Дана матрица mat размером m * n, значения целочисленные. Напишите функцию, сортирующую каждую диагональ матрицы по возрастанию и возвращающую получившуюся матрицу."
   ]
  },
  {
   "cell_type": "code",
   "execution_count": 7,
   "metadata": {},
   "outputs": [
    {
     "name": "stdout",
     "output_type": "stream",
     "text": [
      "[[78 61 66 36 14 60]\n",
      " [47 18 40 40 63 24]\n",
      " [56 40 78 43 43 86]\n",
      " [78 21 73 60 28 89]\n",
      " [22 22  6 40 75 21]]\n",
      "___\n",
      "\n",
      "[[78 47 18 36 14 22]\n",
      " [61 56 40 21 43  6]\n",
      " [66 40 22 60 24 28]\n",
      " [78 40 63 43 40 75]\n",
      " [78 73 60 86 89 21]]\n"
     ]
    }
   ],
   "source": [
    "N = 5\n",
    "M = 6\n",
    "mtx = np.random.randint(0,100,size=(N,M))\n",
    "\n",
    "def createLists(mtx):\n",
    "  to_main_diagnol = []#диагонали ДО главной\n",
    "  from_main_diagnol = []#диагонали ПОСЛЕ главной\n",
    "  x, y = 0, 0\n",
    "  for i in range(M):\n",
    "      y = i\n",
    "      x = 0\n",
    "      temp_list = []\n",
    "      while (y >= 0 and x < N):\n",
    "          temp_list.append(mtx[x][y])\n",
    "          y -= 1\n",
    "          x += 1 \n",
    "      to_main_diagnol.append(temp_list)\n",
    "  for i in range(N-1):\n",
    "      y = M-1\n",
    "      x = i+1\n",
    "      temp_list = []\n",
    "      while (y >= 0 and x < N):\n",
    "          temp_list.append(mtx[x][y])\n",
    "          y -= 1\n",
    "          x += 1 \n",
    "      from_main_diagnol.append(temp_list)\n",
    "\n",
    "  return [to_main_diagnol, from_main_diagnol]\n",
    "\n",
    "to_main_diagnol, from_main_diagnol = createLists(mtx)\n",
    "for i in range(len(to_main_diagnol)):\n",
    "    to_main_diagnol[i]=sorted(to_main_diagnol[i])\n",
    "for i in range(len(from_main_diagnol)):\n",
    "    from_main_diagnol[i]=sorted(from_main_diagnol[i])\n",
    "\n",
    "def createStr(to_main_diagnol, from_main_diagonal, str):\n",
    "  arr = []\n",
    "  for i in range(len(to_main_diagnol)):\n",
    "      if len(to_main_diagnol[i])<str+1:\n",
    "          continue\n",
    "      else:\n",
    "          arr.append(to_main_diagnol[i][str])\n",
    "  if (0 < str < N):\n",
    "    ind1 = 0\n",
    "    ind2 = str-1\n",
    "    for i in range(str):\n",
    "      arr.append(from_main_diagnol[ind1][ind2])\n",
    "      ind1 += 1\n",
    "      ind2 -= 1\n",
    "\n",
    "  return arr\n",
    "\n",
    "print(mtx)\n",
    "print('___\\n')\n",
    "sorted_matrix = []\n",
    "\n",
    "for i in range(N):\n",
    "  sorted_matrix.append(createStr(to_main_diagnol, from_main_diagnol, i))\n",
    "print(np.array(sorted_matrix))    "
   ]
  }
 ],
 "metadata": {
  "interpreter": {
   "hash": "26de051ba29f2982a8de78e945f0abaf191376122a1563185a90213a26c5da77"
  },
  "kernelspec": {
   "display_name": "Python 3.10.4 64-bit",
   "language": "python",
   "name": "python3"
  },
  "language_info": {
   "codemirror_mode": {
    "name": "ipython",
    "version": 3
   },
   "file_extension": ".py",
   "mimetype": "text/x-python",
   "name": "python",
   "nbconvert_exporter": "python",
   "pygments_lexer": "ipython3",
   "version": "3.10.4"
  },
  "orig_nbformat": 4
 },
 "nbformat": 4,
 "nbformat_minor": 2
}
