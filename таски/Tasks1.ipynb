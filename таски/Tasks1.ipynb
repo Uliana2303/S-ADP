{
 "cells": [
  {
   "cell_type": "markdown",
   "metadata": {},
   "source": [
    "Задание 1\n",
    "Даны две строки: s1 и s2 с одинаковым размером.\n",
    "\n",
    "Проверьте, может ли некоторая перестановка строки s1 “победить” некоторую перестановку строки s2 или наоборот.\n",
    "\n",
    "Строка x может “победить” строку y (обе имеют размер n), если x[i] >= y[i] (в алфавитном порядке) для всех i от 0 до n-1.\n",
    "\n",
    "Ввод\n",
    "abc xya\n",
    "\n",
    "Вывод\n",
    "True"
   ]
  },
  {
   "cell_type": "code",
   "execution_count": 2,
   "metadata": {},
   "outputs": [
    {
     "name": "stdout",
     "output_type": "stream",
     "text": [
      "True\n"
     ]
    }
   ],
   "source": [
    "import itertools\n",
    "\n",
    "def winner(a,b):\n",
    "    for i in range(len(a)):\n",
    "        if(a[i]<=b[i]):\n",
    "            if(a[i]==b[i]):\n",
    "                continue\n",
    "            else:\n",
    "                return True\n",
    "        else:\n",
    "            break\n",
    "    return False\n",
    "\n",
    "s1 = \"abc\"\n",
    "s2 = \"xya\"\n",
    "per1 = list(itertools.permutations(s1))\n",
    "per2 = list(itertools.permutations(s2))\n",
    "result = False\n",
    "if(len(s1)!=len(s2)):\n",
    "    print(False)\n",
    "else:\n",
    "    for i in range(len(per1)):\n",
    "        if(winner(per1[i], per2[i])):\n",
    "            result = True\n",
    "            break\n",
    "    print(result)"
   ]
  },
  {
   "cell_type": "markdown",
   "metadata": {},
   "source": [
    "Задание 2\n",
    "Дана строка s, вернуть самую длинную полиндромную подстроку в s.\n",
    "\n",
    "Ввод\n",
    "babad\n",
    "\n",
    "Вывод\n",
    "aba или bab"
   ]
  },
  {
   "cell_type": "code",
   "execution_count": 3,
   "metadata": {},
   "outputs": [
    {
     "name": "stdout",
     "output_type": "stream",
     "text": [
      "bab\n"
     ]
    }
   ],
   "source": [
    "s = 'babad'\n",
    "m = ''\n",
    "for i in range(len(s)):\n",
    "    for j in range(len(s),i,-1):\n",
    "        if len(m) >= j-i:\n",
    "            break\n",
    "        elif s[i:j]==s[i:j][::-1]:\n",
    "            m = s[i:j]\n",
    "print(m)"
   ]
  },
  {
   "cell_type": "markdown",
   "metadata": {},
   "source": [
    "Задание 3\n",
    "Вернуть количество отдельных непустых подстрок текста, которые могут быть записаны как конкатенация некоторой строки с самой собой (т.е. она может быть записана, как a + a, где a - некоторая строка).\n",
    "\n",
    "Ввод\n",
    "aabb\n",
    "\n",
    "Вывод\n",
    "2"
   ]
  },
  {
   "cell_type": "code",
   "execution_count": 4,
   "metadata": {},
   "outputs": [
    {
     "name": "stdout",
     "output_type": "stream",
     "text": [
      "2\n"
     ]
    }
   ],
   "source": [
    "str1='aabb'\n",
    "\n",
    "def concat_str(str1):\n",
    "    flag=0\n",
    "    for i in range(len(str1)):\n",
    "        for j in range(i+1, len(str1)):\n",
    "            sub1=str1[i:j]\n",
    "            l=len(sub1)\n",
    "            if j+l<=len(str1):\n",
    "                sub2=str1[i+l:j+l]\n",
    "                if sub1==sub2:\n",
    "                    flag+=1\n",
    "    return flag\n",
    "\n",
    "print(concat_str(str1))"
   ]
  }
 ],
 "metadata": {
  "interpreter": {
   "hash": "b89b5cfaba6639976dc87ff2fec6d58faec662063367e2c229c520fe71072417"
  },
  "kernelspec": {
   "display_name": "Python 3.10.4 64-bit",
   "language": "python",
   "name": "python3"
  },
  "language_info": {
   "codemirror_mode": {
    "name": "ipython",
    "version": 3
   },
   "file_extension": ".py",
   "mimetype": "text/x-python",
   "name": "python",
   "nbconvert_exporter": "python",
   "pygments_lexer": "ipython3",
   "version": "3.10.4"
  },
  "orig_nbformat": 4
 },
 "nbformat": 4,
 "nbformat_minor": 2
}
